{
 "cells": [
  {
   "cell_type": "markdown",
   "id": "56f0182a",
   "metadata": {
    "slideshow": {
     "slide_type": "slide"
    }
   },
   "source": [
    "# An introduction to R for psychologists\n",
    "\n",
    "### Part 1 : General intro"
   ]
  },
  {
   "cell_type": "markdown",
   "id": "bf031797",
   "metadata": {
    "slideshow": {
     "slide_type": "slide"
    }
   },
   "source": [
    "## Summary of the first part\n",
    "\n",
    "- Presentation and ecosystem\n",
    "    - Presentation and usage\n",
    "    - Benefits and caveats\n",
    "    - comparison with other programming languages\n",
    "- How R works :\n",
    "    - Data types and objects\n",
    "    - Functions\n",
    "    - Plotting\n",
    "    - Libraries"
   ]
  },
  {
   "cell_type": "markdown",
   "id": "c43d715d",
   "metadata": {
    "slideshow": {
     "slide_type": "slide"
    }
   },
   "source": [
    "R is an __essential__ programming language for quantitative analysis of data\n",
    "\n",
    "The principle is to translate instructions/commands into outputs"
   ]
  },
  {
   "cell_type": "code",
   "execution_count": 1,
   "id": "6e66128f",
   "metadata": {
    "slideshow": {
     "slide_type": "fragment"
    }
   },
   "outputs": [
    {
     "name": "stdout",
     "output_type": "stream",
     "text": [
      "[1] \"hello world\"\n"
     ]
    }
   ],
   "source": [
    "print('hello world')"
   ]
  },
  {
   "cell_type": "code",
   "execution_count": 2,
   "id": "9ec52ce7",
   "metadata": {
    "slideshow": {
     "slide_type": "fragment"
    }
   },
   "outputs": [
    {
     "data": {
      "text/html": [
       "2"
      ],
      "text/latex": [
       "2"
      ],
      "text/markdown": [
       "2"
      ],
      "text/plain": [
       "[1] 2"
      ]
     },
     "metadata": {},
     "output_type": "display_data"
    }
   ],
   "source": [
    "1+1"
   ]
  },
  {
   "cell_type": "markdown",
   "id": "df1971a6",
   "metadata": {
    "slideshow": {
     "slide_type": "fragment"
    }
   },
   "source": [
    "Oriented towards statistical analysis"
   ]
  },
  {
   "cell_type": "code",
   "execution_count": 3,
   "id": "e25e8dc7",
   "metadata": {},
   "outputs": [
    {
     "data": {
      "text/html": [
       "<pre class=language-r><code>function (x, ...) \n",
       "UseMethod(\"t.test\")</code></pre>"
      ],
      "text/latex": [
       "\\begin{minted}{r}\n",
       "function (x, ...) \n",
       "UseMethod(\"t.test\")\n",
       "\\end{minted}"
      ],
      "text/markdown": [
       "```r\n",
       "function (x, ...) \n",
       "UseMethod(\"t.test\")\n",
       "```"
      ],
      "text/plain": [
       "function (x, ...) \n",
       "UseMethod(\"t.test\")\n",
       "<bytecode: 0x55a8ba291290>\n",
       "<environment: namespace:stats>"
      ]
     },
     "metadata": {},
     "output_type": "display_data"
    }
   ],
   "source": [
    "t.test"
   ]
  },
  {
   "cell_type": "markdown",
   "id": "0b9445a4",
   "metadata": {
    "slideshow": {
     "slide_type": "slide"
    }
   },
   "source": [
    "## Programming environment\n",
    "\n",
    "Programming in R comes with a lot of flavours : \n"
   ]
  },
  {
   "cell_type": "markdown",
   "id": "832a5690",
   "metadata": {
    "slideshow": {
     "slide_type": "subslide"
    }
   },
   "source": [
    "- base R <img src=\"https://github.com/GWeindel/lecture_R/raw/main/plots/base-r.png\">"
   ]
  },
  {
   "cell_type": "markdown",
   "id": "4d1b4e22",
   "metadata": {
    "slideshow": {
     "slide_type": "subslide"
    }
   },
   "source": [
    "- R studio <img src=\"https://github.com/GWeindel/lecture_R/raw/main/plots/rstudio.png\">"
   ]
  },
  {
   "cell_type": "markdown",
   "id": "0cdc5a9b",
   "metadata": {
    "slideshow": {
     "slide_type": "subslide"
    }
   },
   "source": [
    "- Jupyter ... <img src=\"https://github.com/GWeindel/lecture_R/raw/main/plots/jupyter.png\">"
   ]
  },
  {
   "cell_type": "markdown",
   "id": "0ce75421",
   "metadata": {
    "slideshow": {
     "slide_type": "slide"
    }
   },
   "source": [
    "## What are the _benefits_ of R :\n",
    "- Reproducible analysis (including for you)\n",
    "- Peer review (in theory)\n",
    "- Cooperative science (packages, public repository, code sharing, R community)\n",
    "- Integrated analysis (data wrangling/cleaning, plotting, statistics, EEG ?,etc.)\n",
    "- Large possibilities (simulating entire experiments, writing papers, grading,etc.)"
   ]
  },
  {
   "cell_type": "markdown",
   "id": "229a619c",
   "metadata": {
    "slideshow": {
     "slide_type": "slide"
    }
   },
   "source": [
    "## What are the _caveats_ of R :\n",
    "- Error prone (but see excel, [Reinhart-Rogoff error](https://theconversation.com/the-reinhart-rogoff-error-or-how-not-to-excel-at-economics-13646?utm_source=twitter&utm_medium=twitterbutton) )"
   ]
  },
  {
   "cell_type": "markdown",
   "id": "477402c5",
   "metadata": {
    "slideshow": {
     "slide_type": "subslide"
    }
   },
   "source": [
    "- Package maintenance and bugs (but see [issue on Github](https://github.com/easystats/performance/issues/270) resolved in <1 day)"
   ]
  },
  {
   "cell_type": "markdown",
   "id": "02b81bcc",
   "metadata": {
    "slideshow": {
     "slide_type": "subslide"
    }
   },
   "source": [
    "- steep learning curve (climbing can feel exhausting but you progress quickly)"
   ]
  },
  {
   "cell_type": "code",
   "execution_count": 4,
   "id": "b6bfb906",
   "metadata": {
    "slideshow": {
     "slide_type": "fragment"
    }
   },
   "outputs": [
    {
     "data": {
      "image/png": "[encoded data removed]",
      "text/plain": [
       "Plot with title “Not a serious graph”"
      ]
     },
     "metadata": {
      "image/png": {
       "height": 420,
       "width": 420
      }
     },
     "output_type": "display_data"
    }
   ],
   "source": [
    "plot(1:100, log(1:100), type = \"l\", main='Not a serious graph', \n",
    "     xlab ='Hours invested', ylab = \"Magical power unit\")"
   ]
  },
  {
   "cell_type": "markdown",
   "id": "bd91b1e5",
   "metadata": {
    "slideshow": {
     "slide_type": "slide"
    }
   },
   "source": [
    "\n",
    "<img src=\"https://upload.wikimedia.org/wikipedia/commons/thumb/1/1b/R_logo.svg/310px-R_logo.svg.png\" width=\"100\" > Compared to other programming languages :\n",
    "\n",
    "<img src=\"https://upload.wikimedia.org/wikipedia/commons/thumb/2/21/Matlab_Logo.png/267px-Matlab_Logo.png\" width=\"100\" >\n",
    "\n",
    "<img src=\"https://upload.wikimedia.org/wikipedia/commons/thumb/c/c3/Python-logo-notext.svg/240px-Python-logo-notext.svg.png\" width=\"100\" > \n",
    "\n",
    "<img src=\"https://upload.wikimedia.org/wikipedia/commons/thumb/1/1f/Julia_Programming_Language_Logo.svg/320px-Julia_Programming_Language_Logo.svg.png\" width=\"100\">"
   ]
  },
  {
   "cell_type": "code",
   "execution_count": 5,
   "id": "b4a74bde",
   "metadata": {
    "slideshow": {
     "slide_type": "fragment"
    }
   },
   "outputs": [
    {
     "data": {
      "text/html": [
       "TRUE"
      ],
      "text/latex": [
       "TRUE"
      ],
      "text/markdown": [
       "TRUE"
      ],
      "text/plain": [
       "[1] TRUE"
      ]
     },
     "metadata": {},
     "output_type": "display_data"
    }
   ],
   "source": [
    "'R' > 'Matlab ?'"
   ]
  },
  {
   "cell_type": "markdown",
   "id": "f6ccaa94",
   "metadata": {
    "slideshow": {
     "slide_type": "slide"
    }
   },
   "source": [
    "# How R works\n",
    "\n",
    "- Data types and objects\n",
    "- Functions\n",
    "- Plotting\n",
    "- Libraries"
   ]
  },
  {
   "cell_type": "markdown",
   "id": "67362232",
   "metadata": {
    "slideshow": {
     "slide_type": "slide"
    }
   },
   "source": [
    "# How R works\n",
    "\n",
    "- Data types of single elements\n"
   ]
  },
  {
   "cell_type": "code",
   "execution_count": 6,
   "id": "798e85c2",
   "metadata": {
    "slideshow": {
     "slide_type": "fragment"
    }
   },
   "outputs": [
    {
     "data": {
      "text/html": [
       "2"
      ],
      "text/latex": [
       "2"
      ],
      "text/markdown": [
       "2"
      ],
      "text/plain": [
       "[1] 2"
      ]
     },
     "metadata": {},
     "output_type": "display_data"
    }
   ],
   "source": [
    "1 + 1"
   ]
  },
  {
   "cell_type": "markdown",
   "id": "5e7b0410",
   "metadata": {
    "slideshow": {
     "slide_type": "slide"
    }
   },
   "source": [
    "# How R works\n",
    "\n",
    "- Base function on single elements"
   ]
  },
  {
   "cell_type": "code",
   "execution_count": 7,
   "id": "f5ef35e8",
   "metadata": {
    "slideshow": {
     "slide_type": "fragment"
    }
   },
   "outputs": [
    {
     "name": "stdout",
     "output_type": "stream",
     "text": [
      "[1] 4\n"
     ]
    }
   ],
   "source": [
    "# Assigning\n",
    "a <- 2 # or a =2\n",
    "b <- a+a\n",
    "print(b)\n"
   ]
  },
  {
   "cell_type": "code",
   "execution_count": 8,
   "id": "a6314876",
   "metadata": {
    "slideshow": {
     "slide_type": "fragment"
    }
   },
   "outputs": [
    {
     "name": "stdout",
     "output_type": "stream",
     "text": [
      "[1] 4\n"
     ]
    }
   ],
   "source": [
    "#Reassigning and re-reassigning\n",
    "a <- a + a\n",
    "print(a)"
   ]
  },
  {
   "cell_type": "code",
   "execution_count": 9,
   "id": "351c8e6f",
   "metadata": {
    "slideshow": {
     "slide_type": "subslide"
    }
   },
   "outputs": [
    {
     "data": {
      "text/html": [
       "<style>\n",
       ".list-inline {list-style: none; margin:0; padding: 0}\n",
       ".list-inline>li {display: inline-block}\n",
       ".list-inline>li:not(:last-child)::after {content: \"\\00b7\"; padding: 0 .5ex}\n",
       "</style>\n",
       "<ol class=list-inline><li>'a'</li><li>'b'</li></ol>\n"
      ],
      "text/latex": [
       "\\begin{enumerate*}\n",
       "\\item 'a'\n",
       "\\item 'b'\n",
       "\\end{enumerate*}\n"
      ],
      "text/markdown": [
       "1. 'a'\n",
       "2. 'b'\n",
       "\n",
       "\n"
      ],
      "text/plain": [
       "[1] \"a\" \"b\""
      ]
     },
     "metadata": {},
     "output_type": "display_data"
    }
   ],
   "source": [
    "ls()"
   ]
  },
  {
   "cell_type": "code",
   "execution_count": 10,
   "id": "337b2ca5",
   "metadata": {
    "slideshow": {
     "slide_type": "subslide"
    }
   },
   "outputs": [],
   "source": [
    "#removing \n",
    "rm(a)"
   ]
  },
  {
   "cell_type": "code",
   "execution_count": 11,
   "id": "17690c2a",
   "metadata": {},
   "outputs": [
    {
     "data": {
      "text/html": [
       "'b'"
      ],
      "text/latex": [
       "'b'"
      ],
      "text/markdown": [
       "'b'"
      ],
      "text/plain": [
       "[1] \"b\""
      ]
     },
     "metadata": {},
     "output_type": "display_data"
    }
   ],
   "source": [
    "ls()"
   ]
  },
  {
   "cell_type": "code",
   "execution_count": 12,
   "id": "ede6ab4d",
   "metadata": {
    "slideshow": {
     "slide_type": "subslide"
    }
   },
   "outputs": [
    {
     "data": {
      "text/html": [
       "2"
      ],
      "text/latex": [
       "2"
      ],
      "text/markdown": [
       "2"
      ],
      "text/plain": [
       "[1] 2"
      ]
     },
     "metadata": {},
     "output_type": "display_data"
    }
   ],
   "source": [
    "#Operations\n",
    "sqrt(4)"
   ]
  },
  {
   "cell_type": "markdown",
   "id": "194aa4af",
   "metadata": {
    "slideshow": {
     "slide_type": "slide"
    }
   },
   "source": [
    "# How R works\n",
    "\n",
    "- Collection of elements (or objects) :\n",
    "\n",
    "Name | dim() |  type\n",
    ":-------------------------:|:-------------------------:|:-------------------------:\n",
    "vectors | n | homogeneous\n",
    "matrix | n x m | homogeneous\n",
    "list | n | heterogeneous\n",
    "data.frames | n x m | heterogeneous\n",
    "factors | n | characters (specific to R)"
   ]
  },
  {
   "cell_type": "markdown",
   "id": "49b50504",
   "metadata": {
    "slideshow": {
     "slide_type": "slide"
    }
   },
   "source": [
    "# How R works\n",
    "\n",
    "- base function on collections"
   ]
  },
  {
   "cell_type": "code",
   "execution_count": 13,
   "id": "d5c187cd",
   "metadata": {
    "slideshow": {
     "slide_type": "subslide"
    }
   },
   "outputs": [],
   "source": [
    "a <- c(1,2,3)"
   ]
  },
  {
   "cell_type": "code",
   "execution_count": 14,
   "id": "9e607125",
   "metadata": {
    "slideshow": {
     "slide_type": "-"
    }
   },
   "outputs": [
    {
     "data": {
      "text/html": [
       "3"
      ],
      "text/latex": [
       "3"
      ],
      "text/markdown": [
       "3"
      ],
      "text/plain": [
       "[1] 3"
      ]
     },
     "metadata": {},
     "output_type": "display_data"
    }
   ],
   "source": [
    "length(a)"
   ]
  },
  {
   "cell_type": "code",
   "execution_count": 15,
   "id": "0275a6ac",
   "metadata": {
    "slideshow": {
     "slide_type": "-"
    }
   },
   "outputs": [
    {
     "name": "stdout",
     "output_type": "stream",
     "text": [
      "[1] 1\n",
      "[1] 99\n"
     ]
    }
   ],
   "source": [
    "#Indexing\n",
    "print(a[1]) # 1-indexed\n",
    "#assigning\n",
    "a[1] <- 99\n",
    "print(a[1])\n"
   ]
  },
  {
   "cell_type": "code",
   "execution_count": 16,
   "id": "c6ddfb08",
   "metadata": {
    "slideshow": {
     "slide_type": "subslide"
    }
   },
   "outputs": [
    {
     "data": {
      "text/html": [
       "<style>\n",
       ".list-inline {list-style: none; margin:0; padding: 0}\n",
       ".list-inline>li {display: inline-block}\n",
       ".list-inline>li:not(:last-child)::after {content: \"\\00b7\"; padding: 0 .5ex}\n",
       "</style>\n",
       "<ol class=list-inline><li>1</li><li>1.4142135623731</li><li>1.73205080756888</li></ol>\n"
      ],
      "text/latex": [
       "\\begin{enumerate*}\n",
       "\\item 1\n",
       "\\item 1.4142135623731\n",
       "\\item 1.73205080756888\n",
       "\\end{enumerate*}\n"
      ],
      "text/markdown": [
       "1. 1\n",
       "2. 1.4142135623731\n",
       "3. 1.73205080756888\n",
       "\n",
       "\n"
      ],
      "text/plain": [
       "[1] 1.000000 1.414214 1.732051"
      ]
     },
     "metadata": {},
     "output_type": "display_data"
    }
   ],
   "source": [
    "#Operations on collections\n",
    "a <- c(1,2,3)\n",
    "sqrt(a)"
   ]
  },
  {
   "cell_type": "code",
   "execution_count": 17,
   "id": "82e26e74",
   "metadata": {
    "slideshow": {
     "slide_type": "fragment"
    }
   },
   "outputs": [
    {
     "data": {
      "text/html": [
       "1"
      ],
      "text/latex": [
       "1"
      ],
      "text/markdown": [
       "1"
      ],
      "text/plain": [
       "[1] 1"
      ]
     },
     "metadata": {},
     "output_type": "display_data"
    }
   ],
   "source": [
    "sd(a)\n"
   ]
  },
  {
   "cell_type": "code",
   "execution_count": 18,
   "id": "485f5b58",
   "metadata": {
    "slideshow": {
     "slide_type": "subslide"
    }
   },
   "outputs": [],
   "source": [
    "a <- matrix(data = 1:9, nrow=3)"
   ]
  },
  {
   "cell_type": "code",
   "execution_count": 19,
   "id": "a65ac0f3",
   "metadata": {
    "slideshow": {
     "slide_type": "-"
    }
   },
   "outputs": [
    {
     "name": "stdout",
     "output_type": "stream",
     "text": [
      "     [,1] [,2] [,3]\n",
      "[1,]    1    4    7\n",
      "[2,]    2    5    8\n",
      "[3,]    3    6    9\n"
     ]
    }
   ],
   "source": [
    "print(a)"
   ]
  },
  {
   "cell_type": "code",
   "execution_count": 20,
   "id": "4216653a",
   "metadata": {},
   "outputs": [
    {
     "data": {
      "text/html": [
       "<style>\n",
       ".list-inline {list-style: none; margin:0; padding: 0}\n",
       ".list-inline>li {display: inline-block}\n",
       ".list-inline>li:not(:last-child)::after {content: \"\\00b7\"; padding: 0 .5ex}\n",
       "</style>\n",
       "<ol class=list-inline><li>3</li><li>3</li></ol>\n"
      ],
      "text/latex": [
       "\\begin{enumerate*}\n",
       "\\item 3\n",
       "\\item 3\n",
       "\\end{enumerate*}\n"
      ],
      "text/markdown": [
       "1. 3\n",
       "2. 3\n",
       "\n",
       "\n"
      ],
      "text/plain": [
       "[1] 3 3"
      ]
     },
     "metadata": {},
     "output_type": "display_data"
    }
   ],
   "source": [
    "dim(a)"
   ]
  },
  {
   "cell_type": "code",
   "execution_count": 21,
   "id": "67009e83",
   "metadata": {},
   "outputs": [
    {
     "name": "stdout",
     "output_type": "stream",
     "text": [
      "[1] 7\n",
      "[1] 1 4 7\n"
     ]
    }
   ],
   "source": [
    "print(a[1,3])\n",
    "print(a[1,])"
   ]
  },
  {
   "cell_type": "code",
   "execution_count": 22,
   "id": "b3786922",
   "metadata": {
    "slideshow": {
     "slide_type": "subslide"
    }
   },
   "outputs": [
    {
     "data": {
      "text/html": [
       "<table class=\"dataframe\">\n",
       "<caption>A matrix: 3 × 3 of type dbl</caption>\n",
       "<tbody>\n",
       "\t<tr><td>1.000000</td><td>2.000000</td><td>2.645751</td></tr>\n",
       "\t<tr><td>1.414214</td><td>2.236068</td><td>2.828427</td></tr>\n",
       "\t<tr><td>1.732051</td><td>2.449490</td><td>3.000000</td></tr>\n",
       "</tbody>\n",
       "</table>\n"
      ],
      "text/latex": [
       "A matrix: 3 × 3 of type dbl\n",
       "\\begin{tabular}{lll}\n",
       "\t 1.000000 & 2.000000 & 2.645751\\\\\n",
       "\t 1.414214 & 2.236068 & 2.828427\\\\\n",
       "\t 1.732051 & 2.449490 & 3.000000\\\\\n",
       "\\end{tabular}\n"
      ],
      "text/markdown": [
       "\n",
       "A matrix: 3 × 3 of type dbl\n",
       "\n",
       "| 1.000000 | 2.000000 | 2.645751 |\n",
       "| 1.414214 | 2.236068 | 2.828427 |\n",
       "| 1.732051 | 2.449490 | 3.000000 |\n",
       "\n"
      ],
      "text/plain": [
       "     [,1]     [,2]     [,3]    \n",
       "[1,] 1.000000 2.000000 2.645751\n",
       "[2,] 1.414214 2.236068 2.828427\n",
       "[3,] 1.732051 2.449490 3.000000"
      ]
     },
     "metadata": {},
     "output_type": "display_data"
    }
   ],
   "source": [
    "#Operations\n",
    "sqrt(a)"
   ]
  },
  {
   "cell_type": "code",
   "execution_count": 23,
   "id": "dce06968",
   "metadata": {},
   "outputs": [
    {
     "data": {
      "text/html": [
       "4"
      ],
      "text/latex": [
       "4"
      ],
      "text/markdown": [
       "4"
      ],
      "text/plain": [
       "[1] 4"
      ]
     },
     "metadata": {},
     "output_type": "display_data"
    }
   ],
   "source": [
    "#Operations\n",
    "mean(a[1,])"
   ]
  },
  {
   "cell_type": "markdown",
   "id": "36f99494",
   "metadata": {
    "slideshow": {
     "slide_type": "slide"
    }
   },
   "source": [
    "## Plotting in base R"
   ]
  },
  {
   "cell_type": "code",
   "execution_count": 24,
   "id": "410088cf",
   "metadata": {
    "slideshow": {
     "slide_type": "fragment"
    }
   },
   "outputs": [
    {
     "data": {
      "image/png": "[encoded data removed]",
      "text/plain": [
       "plot without title"
      ]
     },
     "metadata": {
      "image/png": {
       "height": 420,
       "width": 420
      }
     },
     "output_type": "display_data"
    }
   ],
   "source": [
    "plot(log(1:1000))"
   ]
  },
  {
   "cell_type": "markdown",
   "id": "35359c8c",
   "metadata": {
    "slideshow": {
     "slide_type": "subslide"
    }
   },
   "source": [
    "_E.g._ an imaginary example with working memory span and age :"
   ]
  },
  {
   "cell_type": "code",
   "execution_count": 25,
   "id": "05cd213d",
   "metadata": {
    "slideshow": {
     "slide_type": "fragment"
    }
   },
   "outputs": [],
   "source": [
    "obs = 100 #We sampled the WM of 100 persons\n",
    "mean_wm = 6 #magical number 6\n",
    "sd_wm = 2 #+/- 2\n",
    "wm_v = rnorm(obs, mean_wm,sd_wm)#Random number generator see part_2\n",
    "youngest = 1\n",
    "oldest = 99\n",
    "age_v = runif(obs, youngest,oldest)#Random number generator see part_2"
   ]
  },
  {
   "cell_type": "code",
   "execution_count": 26,
   "id": "abf58c0c",
   "metadata": {
    "slideshow": {
     "slide_type": "subslide"
    }
   },
   "outputs": [
    {
     "data": {
      "image/png": "[encoded data removed]",
      "text/plain": [
       "plot without title"
      ]
     },
     "metadata": {
      "image/png": {
       "height": 420,
       "width": 420
      }
     },
     "output_type": "display_data"
    }
   ],
   "source": [
    "plot(age_v, wm_v, xlab= \"Age\",ylab=\"WM span\")"
   ]
  },
  {
   "cell_type": "code",
   "execution_count": 27,
   "id": "890ce955",
   "metadata": {
    "slideshow": {
     "slide_type": "subslide"
    }
   },
   "outputs": [
    {
     "data": {
      "image/png": "[encoded data removed]",
      "text/plain": [
       "plot without title"
      ]
     },
     "metadata": {
      "image/png": {
       "height": 420,
       "width": 420
      }
     },
     "output_type": "display_data"
    }
   ],
   "source": [
    "b_age = -0.04 #aging of one unit (e.g. year) decreases the WM of 0.4 unit\n",
    "plot(age_v, wm_v + (age_v*b_age), xlab=\"Age (year)\", ylab=\"WM span\")\n",
    "#above is an operation on vector ; \n",
    "# for each indiv i : wm_i = wm_v[i] + (age_v[i] * b_age)"
   ]
  },
  {
   "cell_type": "markdown",
   "id": "e79eaf18",
   "metadata": {
    "slideshow": {
     "slide_type": "subslide"
    }
   },
   "source": [
    "R allows for an easy visualization, and you should always visualize the data  : \n",
    "\n",
    "<center><img src=\"https://d2f99xq7vri1nk.cloudfront.net/AllDinosGrey_1.png\" width=\"60%\"> https://www.autodesk.com/research/publications/same-stats-different-graphs"
   ]
  },
  {
   "cell_type": "markdown",
   "id": "1a0d057d",
   "metadata": {
    "slideshow": {
     "slide_type": "slide"
    }
   },
   "source": [
    "## Libraries\n",
    "R comes with a high number of libraries, _e.g._ :\n",
    "- ggplot2\n",
    "- ezANOVA\n",
    "- rtdists"
   ]
  },
  {
   "cell_type": "code",
   "execution_count": 28,
   "id": "2c945970",
   "metadata": {
    "slideshow": {
     "slide_type": "fragment"
    }
   },
   "outputs": [],
   "source": [
    "#install.packages(\"ggplot2\")\n",
    "library(\"ggplot2\")"
   ]
  },
  {
   "cell_type": "code",
   "execution_count": 29,
   "id": "ac93bf70",
   "metadata": {
    "slideshow": {
     "slide_type": "subslide"
    }
   },
   "outputs": [
    {
     "name": "stderr",
     "output_type": "stream",
     "text": [
      "`geom_smooth()` using formula 'y ~ x'\n",
      "\n"
     ]
    },
    {
     "data": {
      "image/png": "[encoded data removed]",
      "text/plain": [
       "plot without title"
      ]
     },
     "metadata": {
      "image/png": {
       "height": 420,
       "width": 420
      }
     },
     "output_type": "display_data"
    }
   ],
   "source": [
    "wm_df = data.frame(\"wm\" =  wm_v + (age_v*b_age), \"age\" = age_v)\n",
    "ggplot(wm_df, aes(age, wm)) + \n",
    "        geom_point() + \n",
    "        geom_smooth(method = \"lm\", se = TRUE)"
   ]
  },
  {
   "cell_type": "markdown",
   "id": "a82771c4",
   "metadata": {
    "slideshow": {
     "slide_type": "slide"
    }
   },
   "source": [
    "### Summary of the first part : \n",
    "- R is a statistical oriented programming language\n",
    "- The best way to learn R is to start using it for a project\n",
    "- The next part aims at showing you __some__ of the possibilities given by R"
   ]
  }
 ],
 "metadata": {
  "celltoolbar": "Slideshow",
  "kernelspec": {
   "display_name": "R",
   "language": "R",
   "name": "ir"
  },
  "language_info": {
   "codemirror_mode": "r",
   "file_extension": ".r",
   "mimetype": "text/x-r-source",
   "name": "R",
   "pygments_lexer": "r",
   "version": "4.0.3"
  }
 },
 "nbformat": 4,
 "nbformat_minor": 5
}
